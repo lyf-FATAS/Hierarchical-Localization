{
 "cells": [
  {
   "cell_type": "code",
   "execution_count": null,
   "metadata": {},
   "outputs": [],
   "source": [
    "%load_ext autoreload\n",
    "%autoreload 2\n",
    "\n",
    "from pathlib import Path\n",
    "\n",
    "from hloc import extract_features, pairs_from_exhaustive, match_features\n",
    "from hloc.utils.io import read_image, get_keypoints, get_matches\n",
    "from hloc.utils.viz import plot_images_vertically, plot_keypoints, plot_matches"
   ]
  },
  {
   "cell_type": "code",
   "execution_count": null,
   "metadata": {},
   "outputs": [],
   "source": [
    "############# Sacre Coeur #############\n",
    "# image_root = Path(\"datasets/sacre_coeur\")\n",
    "# image_path_list = [p.relative_to(image_root).as_posix() for p in (image_root / \"mapping/\").iterdir()]\n",
    "# output_path = Path(\"outputs/demo/\")\n",
    "\n",
    "############# Huzhou #############\n",
    "# image_root = Path(\"datasets/custom\")\n",
    "# image_path_list = sorted(\n",
    "#     [p.relative_to(image_root).as_posix() for p in (image_root / \"huzhou/\").iterdir()],\n",
    "#     key=lambda x: int(x.split(\"/\")[-1].split(\".\")[0])\n",
    "# )\n",
    "# output_path = Path(\"outputs/custom/huzhou\")\n",
    "\n",
    "############# FH Color #############\n",
    "# image_root = Path(\"datasets/custom\")\n",
    "# image_path_list = sorted(\n",
    "#     [p.relative_to(image_root).as_posix() for p in (image_root / \"fh_color/\").iterdir()],\n",
    "#     key=lambda x: int(x.split(\"/\")[-1].split(\".\")[0].split(\"_\")[0])\n",
    "# )\n",
    "# output_path = Path(\"outputs/custom/fh_color\")\n",
    "\n",
    "############# FH Gray #############\n",
    "image_root = Path(\"datasets/custom\")\n",
    "image_path_list = sorted(\n",
    "    [p.relative_to(image_root).as_posix() for p in (image_root / \"fh_gray/\").iterdir()],\n",
    "    key=lambda x: int(x.split(\"/\")[-1].split(\".\")[0].split(\"_\")[0]),\n",
    ")\n",
    "output_path = Path(\"outputs/custom/fh_gray\")\n",
    "\n",
    "# feature_conf = extract_features.confs[\"disk\"]\n",
    "# matcher_conf = match_features.confs[\"disk+lightglue\"]\n",
    "\n",
    "feature_conf = extract_features.confs[\"superpoint_max\"]\n",
    "matcher_conf = match_features.confs[\"superglue\"]\n",
    "# matcher_conf = match_features.confs[\"NN-superpoint\"]\n",
    "\n",
    "# feature_conf = extract_features.confs[\"sift\"]\n",
    "# matcher_conf = match_features.confs[\"NN-ratio\"]"
   ]
  },
  {
   "cell_type": "code",
   "execution_count": null,
   "metadata": {},
   "outputs": [],
   "source": [
    "pair_path = output_path / \"pairs-sfm.txt\"\n",
    "feature_path = output_path / \"features.h5\"\n",
    "matche_path = output_path / \"matches.h5\"\n",
    "\n",
    "extract_features.main(\n",
    "    feature_conf,\n",
    "    image_root,\n",
    "    image_list=image_path_list,\n",
    "    feature_path=feature_path,\n",
    "    overwrite=True,\n",
    ")\n",
    "pairs_from_exhaustive.main(pair_path, image_list=image_path_list)\n",
    "match_features.main(\n",
    "    matcher_conf, pair_path, features=feature_path, matches=matche_path, overwrite=True\n",
    ")"
   ]
  },
  {
   "cell_type": "code",
   "execution_count": null,
   "metadata": {},
   "outputs": [],
   "source": [
    "image_list = [\n",
    "    read_image(image_root / image_path, grayscale=False)\n",
    "    for image_path in image_path_list\n",
    "]\n",
    "\n",
    "keypoint_list = [\n",
    "    get_keypoints(feature_path, image_path) for image_path in image_path_list\n",
    "]\n",
    "\n",
    "with open(str(pair_path), \"r\") as f:\n",
    "    pairs = [p.split() for p in f.readlines()[: len(image_list) - 1]]\n",
    "match_list = [\n",
    "    (matches, scores)\n",
    "    for name0, name1 in pairs\n",
    "    for matches, scores in [get_matches(matche_path, name0, name1)]\n",
    "]"
   ]
  },
  {
   "cell_type": "code",
   "execution_count": null,
   "metadata": {},
   "outputs": [],
   "source": [
    "for i in range(len(image_list) - 1):\n",
    "    plot_images_vertically([image_list[0], image_list[i + 1]], dpi=150)\n",
    "    plot_keypoints([keypoint_list[0], keypoint_list[i + 1]], ps=2)\n",
    "    idx_0 = match_list[i][0][:, 0]\n",
    "    idx_i = match_list[i][0][:, 1]\n",
    "    kps_0 = keypoint_list[0][idx_0]\n",
    "    kps_i = keypoint_list[i + 1][idx_i]\n",
    "    plot_matches(kps_0, kps_i, lw=.2, ps=1)"
   ]
  }
 ],
 "metadata": {
  "kernelspec": {
   "display_name": "hloc",
   "language": "python",
   "name": "python3"
  },
  "language_info": {
   "codemirror_mode": {
    "name": "ipython",
    "version": 3
   },
   "file_extension": ".py",
   "mimetype": "text/x-python",
   "name": "python",
   "nbconvert_exporter": "python",
   "pygments_lexer": "ipython3",
   "version": "3.8.10"
  }
 },
 "nbformat": 4,
 "nbformat_minor": 2
}
